{
 "cells": [
  {
   "cell_type": "code",
   "execution_count": 15,
   "id": "e84cc447-e333-4554-bb6e-dcab5f66641f",
   "metadata": {},
   "outputs": [
    {
     "name": "stdout",
     "output_type": "stream",
     "text": [
      "Project directory added to PYTHONPATH: /Users/Patri/Desktop/Estudis\n",
      "You have woken up on an unknown island. You open your eyes and see that you are in a park. All around you you see many trees and a children's playground. Your only way out is to get to the harbour and catch the ferry...However, you don't know where the harbour is! You will have to look for the maps hidden in the different locations of the island and collect the lost maps to get out. Good luck!\n",
      "You are now in park.\n"
     ]
    },
    {
     "name": "stdin",
     "output_type": "stream",
     "text": [
      "What would you like to do? Type 'explore' or 'examine':  explore\n"
     ]
    },
    {
     "name": "stdout",
     "output_type": "stream",
     "text": [
      "You explore the location. This is park. You find: tree, swing, dog, street a\n",
      "You are now in park.\n"
     ]
    },
    {
     "name": "stdin",
     "output_type": "stream",
     "text": [
      "What would you like to do? Type 'explore' or 'examine':  examine\n",
      "What would you like to examine?  dog\n"
     ]
    },
    {
     "name": "stdout",
     "output_type": "stream",
     "text": [
      "You lost the game\n",
      "\n",
      "Final Report\n",
      "============\n",
      "Maps collected: \n",
      "Time elapsed: 6 seconds\n",
      "Time remaining: 294 seconds\n",
      "Moves made: 0\n",
      "\n",
      "\n",
      "\n",
      "\n",
      "\n",
      "\n"
     ]
    }
   ],
   "source": [
    "\n",
    "# Configuración de rutas\n",
    "import sys\n",
    "import os\n",
    "\n",
    "# Añadir el directorio raiz al PYTHONPATH\n",
    "proj_dir = os.path.abspath(os.path.join(os.path.dirname(''), '..', '..'))\n",
    "if proj_dir not in sys.path:\n",
    "    sys.path.insert(0, proj_dir)\n",
    "\n",
    "print(\"Project directory added to PYTHONPATH:\", proj_dir)\n",
    "\n",
    "# Importar módulos del paquete game\n",
    "from locations import INIT_GAME_STATE\n",
    "from functions import start_game\n",
    "\n",
    "# Inicializar el estado inicial del juego\n",
    "game_state = INIT_GAME_STATE.copy()\n",
    "\n",
    "def main():\n",
    "    start_game(game_state)\n",
    "\n",
    "if __name__ == \"__main__\":\n",
    "    main()\n"
   ]
  }
 ],
 "metadata": {
  "kernelspec": {
   "display_name": "Python 3 (ipykernel)",
   "language": "python",
   "name": "python3"
  },
  "language_info": {
   "codemirror_mode": {
    "name": "ipython",
    "version": 3
   },
   "file_extension": ".py",
   "mimetype": "text/x-python",
   "name": "python",
   "nbconvert_exporter": "python",
   "pygments_lexer": "ipython3",
   "version": "3.12.4"
  }
 },
 "nbformat": 4,
 "nbformat_minor": 5
}
